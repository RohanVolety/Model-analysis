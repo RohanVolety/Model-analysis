{
 "cells": [
  {
   "cell_type": "code",
   "execution_count": 1,
   "id": "7c7d1aba",
   "metadata": {},
   "outputs": [],
   "source": [
    "import pandas as pd"
   ]
  },
  {
   "cell_type": "code",
   "execution_count": 2,
   "id": "de54611a",
   "metadata": {},
   "outputs": [],
   "source": [
    "import numpy as np"
   ]
  },
  {
   "cell_type": "code",
   "execution_count": 4,
   "id": "cc3ba3d5",
   "metadata": {},
   "outputs": [
    {
     "data": {
      "text/html": [
       "<div>\n",
       "<style scoped>\n",
       "    .dataframe tbody tr th:only-of-type {\n",
       "        vertical-align: middle;\n",
       "    }\n",
       "\n",
       "    .dataframe tbody tr th {\n",
       "        vertical-align: top;\n",
       "    }\n",
       "\n",
       "    .dataframe thead th {\n",
       "        text-align: right;\n",
       "    }\n",
       "</style>\n",
       "<table border=\"1\" class=\"dataframe\">\n",
       "  <thead>\n",
       "    <tr style=\"text-align: right;\">\n",
       "      <th></th>\n",
       "      <th>monthly_salary</th>\n",
       "      <th>fico</th>\n",
       "      <th>utilization</th>\n",
       "      <th>card_limit</th>\n",
       "      <th>card_interest_rate</th>\n",
       "      <th>model_output</th>\n",
       "      <th>model_target</th>\n",
       "    </tr>\n",
       "  </thead>\n",
       "  <tbody>\n",
       "    <tr>\n",
       "      <th>0</th>\n",
       "      <td>78780</td>\n",
       "      <td>897</td>\n",
       "      <td>13.17%</td>\n",
       "      <td>31032</td>\n",
       "      <td>3.75%</td>\n",
       "      <td>0.2231</td>\n",
       "      <td>0</td>\n",
       "    </tr>\n",
       "    <tr>\n",
       "      <th>1</th>\n",
       "      <td>10065</td>\n",
       "      <td>794</td>\n",
       "      <td>6.22%</td>\n",
       "      <td>31697</td>\n",
       "      <td>3.41%</td>\n",
       "      <td>0.9543</td>\n",
       "      <td>1</td>\n",
       "    </tr>\n",
       "    <tr>\n",
       "      <th>2</th>\n",
       "      <td>97434</td>\n",
       "      <td>880</td>\n",
       "      <td>8.44%</td>\n",
       "      <td>48998</td>\n",
       "      <td>9.68%</td>\n",
       "      <td>0.9906</td>\n",
       "      <td>0</td>\n",
       "    </tr>\n",
       "    <tr>\n",
       "      <th>3</th>\n",
       "      <td>126755</td>\n",
       "      <td>729</td>\n",
       "      <td>0.73%</td>\n",
       "      <td>38827</td>\n",
       "      <td>4.14%</td>\n",
       "      <td>0.0232</td>\n",
       "      <td>0</td>\n",
       "    </tr>\n",
       "    <tr>\n",
       "      <th>4</th>\n",
       "      <td>70696</td>\n",
       "      <td>624</td>\n",
       "      <td>15.47%</td>\n",
       "      <td>9082</td>\n",
       "      <td>5.51%</td>\n",
       "      <td>0.1075</td>\n",
       "      <td>0</td>\n",
       "    </tr>\n",
       "  </tbody>\n",
       "</table>\n",
       "</div>"
      ],
      "text/plain": [
       "   monthly_salary  fico utilization  card_limit card_interest_rate  \\\n",
       "0           78780   897      13.17%       31032              3.75%   \n",
       "1           10065   794       6.22%       31697              3.41%   \n",
       "2           97434   880       8.44%       48998              9.68%   \n",
       "3          126755   729       0.73%       38827              4.14%   \n",
       "4           70696   624      15.47%        9082              5.51%   \n",
       "\n",
       "   model_output  model_target  \n",
       "0        0.2231             0  \n",
       "1        0.9543             1  \n",
       "2        0.9906             0  \n",
       "3        0.0232             0  \n",
       "4        0.1075             0  "
      ]
     },
     "execution_count": 4,
     "metadata": {},
     "output_type": "execute_result"
    }
   ],
   "source": [
    "df=pd.read_csv('hello.csv')\n",
    "df.head()"
   ]
  },
  {
   "cell_type": "code",
   "execution_count": null,
   "id": "b5a6340d",
   "metadata": {},
   "outputs": [],
   "source": []
  }
 ],
 "metadata": {
  "kernelspec": {
   "display_name": "Python 3 (ipykernel)",
   "language": "python",
   "name": "python3"
  },
  "language_info": {
   "codemirror_mode": {
    "name": "ipython",
    "version": 3
   },
   "file_extension": ".py",
   "mimetype": "text/x-python",
   "name": "python",
   "nbconvert_exporter": "python",
   "pygments_lexer": "ipython3",
   "version": "3.8.8"
  }
 },
 "nbformat": 4,
 "nbformat_minor": 5
}
